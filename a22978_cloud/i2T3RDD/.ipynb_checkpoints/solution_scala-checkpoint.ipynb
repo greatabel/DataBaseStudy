{
 "cells": [
  {
   "cell_type": "code",
   "execution_count": 3,
   "id": "da49953a",
   "metadata": {},
   "outputs": [
    {
     "data": {
      "text/plain": [
       "shakes: org.apache.spark.rdd.RDD[String] = nbs/shakespeare.txt MapPartitionsRDD[9] at textFile at <console>:25\n",
       "verbs: Array[String] = Array(abash, abashed, abashed, abashes, abashing, abate, abated, abated, abates, abating, abide, abode, abode, abides, abiding, absorb, absorbed, absorbed, absorbs, absorbing, accept, accepted, accepted, accepts, accepting, accompany, accompanied, accompanied, accompanies, accompanying, ache, ached, ached, aches, aching, achieve, achieved, achieved, achieves, achieving, acquire, acquired, acquired, acquires, acquiring, act, acted, acted, acts, acting, add, added, added, adds, adding, address, addressed, addressed, addresses, addressing, adjust, adjusted, adjusted, adjusts, adjusting, admire, admired, admired, admires, admiring, admit, admitted, admitted, ...\n"
      ]
     },
     "execution_count": 3,
     "metadata": {},
     "output_type": "execute_result"
    }
   ],
   "source": [
    "/* q1 */\n",
    "val shakes = sc.textFile(\"nbs/shakespeare.txt\")\n",
    "val verbs = sc.textFile(\"nbs/all_verbs.txt\").collect()\n",
    "val verb_dict = sc.textFile(\"nbs/verb_dict.txt\")\n",
    "\n"
   ]
  },
  {
   "cell_type": "code",
   "execution_count": 6,
   "id": "60ea3cd2",
   "metadata": {},
   "outputs": [
    {
     "data": {
      "text/plain": [
       "remove_empty_lines: org.apache.spark.rdd.RDD[String] = MapPartitionsRDD[18] at filter at <console>:28\n",
       "remove_punctuation: org.apache.spark.rdd.RDD[String] = MapPartitionsRDD[19] at map at <console>:29\n",
       "my_cap: org.apache.spark.rdd.RDD[String] = MapPartitionsRDD[20] at map at <console>:30\n",
       "map: org.apache.spark.rdd.RDD[String] = MapPartitionsRDD[21] at flatMap at <console>:32\n"
      ]
     },
     "execution_count": 6,
     "metadata": {},
     "output_type": "execute_result"
    }
   ],
   "source": [
    "/* q2 */\n",
    "val remove_empty_lines = shakes.filter(row => !row.isEmpty)\n",
    "val remove_punctuation = remove_empty_lines.map(_.replaceAll(\"[,.!?:;]\", \"\").trim)\n",
    "val my_cap = remove_punctuation.map(x=>x.toLowerCase)\n",
    "\n",
    "val map = my_cap.flatMap(line=> line.split(\" \"))\n",
    "\n"
   ]
  },
  {
   "cell_type": "code",
   "execution_count": 10,
   "id": "d7a9dd1e",
   "metadata": {},
   "outputs": [],
   "source": [
    "/* q3 */\n",
    "val match_verbs = map.filter(x=> verbs.contains(x))\n",
    "\n",
    "val count_verbs = match_verbs.map(x=>(x,1)).reduceByKey((a,b)=>a+b)\n"
   ]
  },
  {
   "cell_type": "code",
   "execution_count": 8,
   "id": "be4f3ae9",
   "metadata": {},
   "outputs": [
    {
     "data": {
      "text/plain": [
       "verbslist: Array[Array[String]] = Array(Array(abash, abash, abashed, abashed, abashes, abashing), Array(abate, abate, abated, abated, abates, abating), Array(abide, abide, abode, abode, abides, abiding), Array(absorb, absorb, absorbed, absorbed, absorbs, absorbing), Array(accept, accept, accepted, accepted, accepts, accepting), Array(accompany, accompany, accompanied, accompanied, accompanies, accompanying), Array(ache, ache, ached, ached, aches, aching), Array(achieve, achieve, achieved, achieved, achieves, achieving), Array(acquire, acquire, acquired, acquired, acquires, acquiring), Array(act, act, acted, acted, acts, acting), Array(add, add, added, added, adds, adding), Array(address, address, addressed, addressed, addresses, addressing), Array(adjust, adjust, adjusted, adjusted, adj...\n"
      ]
     },
     "execution_count": 8,
     "metadata": {},
     "output_type": "execute_result"
    }
   ],
   "source": [
    "/* q4 */\n",
    "val verbslist = verb_dict.map(s=>s.split(\",\").map(_.trim)).collect\n",
    "\n",
    "val verbMap = verbslist.flatMap(e => {\n",
    "    e.map(i=> i -> e(0))\n",
    "}).toMap\n",
    "\n"
   ]
  },
  {
   "cell_type": "code",
   "execution_count": 11,
   "id": "cb8b5ccb",
   "metadata": {},
   "outputs": [],
   "source": [
    "/* q5 */\n",
    "val bdVerbMap = sc.broadcast(verbMap)\n",
    "val myTop = count_verbs.map(t=>(bdVerbMap.value.getOrElse(t._1, t._1), t._2)).reduceByKey((x,y)=>x+y)\n",
    "\n",
    "myTop.map(x=>x._2->x._1).sortByKey(false).map(x=>x._2->x._1).take(10).foreach(println)"
   ]
  },
  {
   "cell_type": "code",
   "execution_count": null,
   "id": "b9502752",
   "metadata": {},
   "outputs": [],
   "source": []
  }
 ],
 "metadata": {
  "kernelspec": {
   "display_name": "spylon-kernel",
   "language": "scala",
   "name": "spylon-kernel"
  },
  "language_info": {
   "codemirror_mode": "text/x-scala",
   "file_extension": ".scala",
   "help_links": [
    {
     "text": "MetaKernel Magics",
     "url": "https://metakernel.readthedocs.io/en/latest/source/README.html"
    }
   ],
   "mimetype": "text/x-scala",
   "name": "scala",
   "pygments_lexer": "scala",
   "version": "0.4.1"
  }
 },
 "nbformat": 4,
 "nbformat_minor": 5
}
