{
 "cells": [
  {
   "cell_type": "code",
   "execution_count": null,
   "id": "da49953a",
   "metadata": {},
   "outputs": [],
   "source": [
    "/* q1 */\n",
    "val shakes = sc.textFile(\"shakespeare.txt\")\n",
    "val verbs = sc.textFile(\"all_verbs.txt\").collect()\n",
    "val verb_dict = sc.textFile(\"verb_dict.txt\")\n",
    "\n"
   ]
  },
  {
   "cell_type": "code",
   "execution_count": null,
   "id": "60ea3cd2",
   "metadata": {},
   "outputs": [],
   "source": [
    "/* q2 */\n",
    "val remove_empty_lines = shakes.filter(row => !row.isEmpty)\n",
    "val remove_punctuation = remove_empty_lines.map(_.replaceAll(\"[,.!?:;]\", \"\").trim)\n",
    "val my_cap = remove_punctuation.map(x=>x.toLowerCase)\n",
    "\n",
    "val map = my_cap.flatMap(line=> line.split(\" \"))\n",
    "\n"
   ]
  },
  {
   "cell_type": "code",
   "execution_count": null,
   "id": "d7a9dd1e",
   "metadata": {},
   "outputs": [],
   "source": [
    "/* q3 */\n",
    "val match_verbs = map.filter(x=> verbs.contains(x))\n",
    "\n",
    "val count_verbs = match_verbs.map(x=>(x,1)).reduceByKey((a,b)=>a+b)\n"
   ]
  },
  {
   "cell_type": "code",
   "execution_count": null,
   "id": "be4f3ae9",
   "metadata": {},
   "outputs": [],
   "source": [
    "/* q4 */\n",
    "val verbslist = verb_dict.map(s=>s.split(\",\").map(_.trim)).collect\n",
    "\n",
    "val verbMap = verbslist.flatMap(e => {\n",
    "    e.map(i=> i -> e(0))\n",
    "}).toMap\n",
    "\n"
   ]
  },
  {
   "cell_type": "code",
   "execution_count": null,
   "id": "cb8b5ccb",
   "metadata": {},
   "outputs": [],
   "source": [
    "/* q5 */\n",
    "val bdVerbMap = sc.broadcast(verbMap)\n",
    "val myTop = count_verbs.map(t=>(bdVerbMap.value.getOrElse(t._1, t._1), t._2)).reduceByKey((x,y)=>x+y)\n",
    "\n",
    "myTop.map(x=>x._2->x._1).sortByKey(false).map(x=>x._2->x._1).take(10).foreach(println)"
   ]
  }
 ],
 "metadata": {
  "kernelspec": {
   "display_name": "spylon-kernel",
   "language": "scala",
   "name": "spylon-kernel"
  },
  "language_info": {
   "codemirror_mode": "text/x-scala",
   "file_extension": ".scala",
   "help_links": [
    {
     "text": "MetaKernel Magics",
     "url": "https://metakernel.readthedocs.io/en/latest/source/README.html"
    }
   ],
   "mimetype": "text/x-scala",
   "name": "scala",
   "pygments_lexer": "scala",
   "version": "0.4.1"
  }
 },
 "nbformat": 4,
 "nbformat_minor": 5
}
